{
  "nbformat": 4,
  "nbformat_minor": 0,
  "metadata": {
    "colab": {
      "provenance": [],
      "authorship_tag": "ABX9TyM06JzkewvO4Qic/t4ygP2c",
      "include_colab_link": true
    },
    "kernelspec": {
      "name": "python3",
      "display_name": "Python 3"
    },
    "language_info": {
      "name": "python"
    }
  },
  "cells": [
    {
      "cell_type": "markdown",
      "metadata": {
        "id": "view-in-github",
        "colab_type": "text"
      },
      "source": [
        "<a href=\"https://colab.research.google.com/github/asfmur/DSWI/blob/main/tests_automatizados_unittest.ipynb\" target=\"_parent\"><img src=\"https://colab.research.google.com/assets/colab-badge.svg\" alt=\"Open In Colab\"/></a>"
      ]
    },
    {
      "cell_type": "code",
      "execution_count": 6,
      "metadata": {
        "id": "R0pb9yN6zRvf"
      },
      "outputs": [],
      "source": [
        "from unittest import main, TestCase"
      ]
    },
    {
      "cell_type": "code",
      "source": [
        "def square(x):\n",
        "  return x**2"
      ],
      "metadata": {
        "id": "pILcIC0V278E"
      },
      "execution_count": 7,
      "outputs": []
    },
    {
      "cell_type": "code",
      "source": [
        "class TestSquare(TestCase):\n",
        "  def test_if_return_equals_square_of_2(self):\n",
        "    result = square(2)\n",
        "    expected=4\n",
        "\n",
        "    self.assertEqual(result, expected)"
      ],
      "metadata": {
        "id": "ujXxP_uQ3Eom"
      },
      "execution_count": 18,
      "outputs": []
    },
    {
      "cell_type": "code",
      "source": [
        "def test_if_return_not_equals_to_square_of_4(self):\n",
        "  result = square(4)\n",
        "  expected = 4\n",
        "  self.assertNotEqual(result, expected)"
      ],
      "metadata": {
        "id": "dG0BjHkJ0Cch"
      },
      "execution_count": 20,
      "outputs": []
    }
  ]
}