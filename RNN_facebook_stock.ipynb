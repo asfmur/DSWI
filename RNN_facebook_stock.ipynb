{
  "nbformat": 4,
  "nbformat_minor": 0,
  "metadata": {
    "colab": {
      "provenance": [],
      "authorship_tag": "ABX9TyPYeSjpqLyIyHd2pcvjVQ1q",
      "include_colab_link": true
    },
    "kernelspec": {
      "name": "python3",
      "display_name": "Python 3"
    },
    "language_info": {
      "name": "python"
    }
  },
  "cells": [
    {
      "cell_type": "markdown",
      "metadata": {
        "id": "view-in-github",
        "colab_type": "text"
      },
      "source": [
        "<a href=\"https://colab.research.google.com/github/asfmur/DSWI/blob/main/RNN_facebook_stock.ipynb\" target=\"_parent\"><img src=\"https://colab.research.google.com/assets/colab-badge.svg\" alt=\"Open In Colab\"/></a>"
      ]
    },
    {
      "cell_type": "code",
      "source": [
        "from numpy.lib.function_base import append\n",
        "import numpy as np\n",
        "import pandas as pd\n",
        "import matplotlib.pyplot as plt\n",
        "\n",
        "#dados para treino serão importados\n",
        "training_data = pd.read_csv('FB_training_data.csv')\n",
        "\n",
        "#c#training_data\n",
        "\n",
        "##Seleciona uma coluna dos dados de treino e guardamos\n",
        "# dentro de um NumPy array\n",
        "training_data =  training_data.iloc[:, 1].values\n",
        "\n",
        "\n",
        "#excluir para visualizar #print(training_data)\n",
        "#excluir para visualizar#type(training_data)\n",
        "\n",
        "#escalonamento usando normalização limitando  os valores entre 0 e 1\n",
        "#usando o scikit-learn MinMaxScaler para a normalização\n",
        "from sklearn.preprocessing import MinMaxScaler\n",
        "#criando um objeto escalonador\n",
        "scaler = MinMaxScaler()\n",
        "#usando o escalonador para modificar o dataset\n",
        "#tornando todo ponto de observação da RNN esteja entre 0 e 1\n",
        "training_data = scaler.fit_transform(training_data.reshape(-1,1))\n",
        "\n",
        "#especificando timesteps(quantidade de observações antecedentes)\n",
        "#devem ser consideradas. Para criar timessteps usa-se 2 estrutura de dados\n",
        "\n",
        "#valores que a RNN leva em consideração antes de prever = x\n",
        "#valor que contem a resposta correta = y\n",
        "\n",
        "x_training_data = []\n",
        "y_training_data = []\n",
        "\n",
        "####\n",
        "for i in range(40, len(training_data)):\n",
        "  x_training_data.append(training_data[i-40:i, 0])\n",
        "  y_training_data.append(training_data[i, 0])\n",
        "\n",
        "\n"
      ],
      "metadata": {
        "id": "JVJN550MsfST"
      },
      "execution_count": null,
      "outputs": []
    }
  ]
}